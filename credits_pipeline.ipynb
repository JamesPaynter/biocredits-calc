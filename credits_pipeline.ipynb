{
 "cells": [
  {
   "cell_type": "code",
   "execution_count": null,
   "metadata": {},
   "outputs": [],
   "source": [
    "import pytz\n",
    "from datetime import datetime\n",
    "from calc_utils import clear_biocredits_tables, download_kml_official, kml_to_shp, load_shp, normalize_shps, \\\n",
    "                       reorder_polygons, shp_to_land, plot_land, download_observations, observations_to_circles, \\\n",
    "                       expand_observations, daily_score_union, daily_video, daily_attibution, monthly_attribution, \\\n",
    "                       cummulative_attribution, insert_gdf_to_airtable, insert_log_entry, upload_to_gcs"
   ]
  },
  {
   "cell_type": "code",
   "execution_count": null,
   "metadata": {},
   "outputs": [],
   "source": [
    "colombia_tz = pytz.timezone('America/Bogota')\n",
    "start_str = datetime.now(colombia_tz).strftime('%Y-%m-%d %H:%M:%S')\n",
    "clear_biocredits_tables([\"Logs\", \"Observations\", \"Monthly Attribution\", \"Cummulative Attribution\"])\n",
    "insert_log_entry('Start time', start_str)"
   ]
  },
  {
   "cell_type": "code",
   "execution_count": null,
   "metadata": {},
   "outputs": [],
   "source": [
    "# Download KMLs\n",
    "#download_kml_official()\n",
    "# KML to SHP\n",
    "kml_to_shp(source_directory='KML/', destination_directory='SHP/')"
   ]
  },
  {
   "cell_type": "code",
   "execution_count": null,
   "metadata": {},
   "outputs": [],
   "source": [
    "shp = load_shp('SHP/')\n",
    "insert_log_entry('Number of fincas', str(len(shp)))"
   ]
  },
  {
   "cell_type": "code",
   "execution_count": null,
   "metadata": {},
   "outputs": [],
   "source": [
    "normalized_shapes = normalize_shps(shp)\n",
    "gdf_normalized = shp_to_land(normalized_shapes)\n",
    "plot_land(gdf_normalized, 'fincas0.html')\n",
    "insert_log_entry('Fincas plot:', upload_to_gcs('biocredits-calc', 'fincas0.html', 'plots_without_reordering.html'))\n",
    "reorder_lands = [] \n",
    "insert_log_entry('Reorder:', str(reorder_lands))\n",
    "normalized_shapes_reordered = reorder_polygons(normalized_shapes, reorder_lands=reorder_lands)\n",
    "lands = shp_to_land(normalized_shapes_reordered)\n",
    "plot_land(lands, 'fincas1.html')\n",
    "insert_log_entry('Fincas plot reordered:', upload_to_gcs('biocredits-calc', 'fincas1.html', 'plots_with_reordering.html'))\n"
   ]
  },
  {
   "cell_type": "code",
   "execution_count": null,
   "metadata": {},
   "outputs": [],
   "source": [
    "records = download_observations()\n",
    "records = observations_to_circles(records, default_crs=4326, buffer_crs=6262)\n",
    "\n",
    "insert_gdf_to_airtable(records, 'Observations', insert_geo = False, delete_all=True)"
   ]
  },
  {
   "cell_type": "code",
   "execution_count": null,
   "metadata": {},
   "outputs": [],
   "source": [
    "obs_expanded = expand_observations(records)\n",
    "daily_score = daily_score_union(obs_expanded)"
   ]
  },
  {
   "cell_type": "code",
   "execution_count": null,
   "metadata": {},
   "outputs": [],
   "source": [
    "daily_video(daily_score, lands, first_date=None)\n",
    "insert_log_entry('Raindrops Video:', upload_to_gcs('biocredits-calc', 'raindrops.mp4', 'raindrops.mp4'))"
   ]
  },
  {
   "cell_type": "code",
   "execution_count": null,
   "metadata": {},
   "outputs": [],
   "source": [
    "attribution = daily_attibution(daily_score, lands, obs_expanded, crs=6262)\n",
    "insert_log_entry('Daily Attribution rows:', str(len(attribution)))"
   ]
  },
  {
   "cell_type": "code",
   "execution_count": null,
   "metadata": {},
   "outputs": [],
   "source": [
    "attr_month = monthly_attribution(attribution)\n",
    "insert_log_entry('Monthly Attribution rows:', str(len(attr_month)))"
   ]
  },
  {
   "cell_type": "code",
   "execution_count": null,
   "metadata": {},
   "outputs": [],
   "source": [
    "attr_cumm = cummulative_attribution(attr_month, cutdays = 30, start_date=None)\n",
    "insert_log_entry('Cummulative Attribution rows:', str(len(attr_cumm)))"
   ]
  },
  {
   "cell_type": "code",
   "execution_count": null,
   "metadata": {},
   "outputs": [],
   "source": [
    "insert_gdf_to_airtable(attr_cumm.drop(columns='eco_id_list'), 'Cummulative Attribution', insert_geo = False, delete_all=True)\n",
    "insert_gdf_to_airtable(attr_month.drop(columns='eco_id_list'), 'Monthly Attribution', insert_geo = False, delete_all=True)\n",
    "#insert_gdf_to_airtable(attribution.reset_index(), 'Daily Attribution', insert_geo = False, delete_all=True)\n",
    "\n",
    "end_str = datetime.now(colombia_tz).strftime('%Y-%m-%d %H:%M:%S')\n",
    "insert_log_entry('End time', end_str)"
   ]
  },
  {
   "cell_type": "code",
   "execution_count": null,
   "metadata": {},
   "outputs": [],
   "source": []
  }
 ],
 "metadata": {
  "kernelspec": {
   "display_name": "savimbo",
   "language": "python",
   "name": "python3"
  },
  "language_info": {
   "codemirror_mode": {
    "name": "ipython",
    "version": 3
   },
   "file_extension": ".py",
   "mimetype": "text/x-python",
   "name": "python",
   "nbconvert_exporter": "python",
   "pygments_lexer": "ipython3",
   "version": "3.10.12"
  }
 },
 "nbformat": 4,
 "nbformat_minor": 2
}
